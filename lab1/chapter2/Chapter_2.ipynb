{
  "nbformat": 4,
  "nbformat_minor": 0,
  "metadata": {
    "colab": {
      "name": "Chapter_2.ipynb",
      "provenance": [],
      "collapsed_sections": [],
      "toc_visible": true,
      "authorship_tag": "ABX9TyOpaD4666xNIzTpBpoAlczJ",
      "include_colab_link": true
    },
    "kernelspec": {
      "name": "python3",
      "display_name": "Python 3"
    }
  },
  "cells": [
    {
      "cell_type": "markdown",
      "metadata": {
        "id": "view-in-github",
        "colab_type": "text"
      },
      "source": [
        "<a href=\"https://colab.research.google.com/github/harisont/comp-syntax-2020/blob/master/lab1/chapter2/Chapter_2.ipynb\" target=\"_parent\"><img src=\"https://colab.research.google.com/assets/colab-badge.svg\" alt=\"Open In Colab\"/></a>"
      ]
    },
    {
      "cell_type": "markdown",
      "metadata": {
        "id": "Os7yRRGznQD_",
        "colab_type": "text"
      },
      "source": [
        "# Designing the morphological types of the major parts of speech in Spanish\n",
        "\n",
        "## Nouns\n",
        "- inherent features: -\n",
        "- inflective features:\n",
        "\n",
        "feature | possible values\n",
        "--- | ---\n",
        "number | `Sing`, `Plur`\n",
        "gender | `Masc`, `Fem`\n",
        "\n",
        "I am not sure it is correct to say that Spanish has no inherent features when it comes to nouns: in a sense, one could argue that case is one such feature.\n",
        "\n",
        "Furthermore, according to [wikipedia](https://https://es.wikipedia.org/wikiG%C3%A9nero_gramatical_en_espa%C3%B1ol), gender is grammatical in Spanish. While this makes sense to me, at the same time the textbook (par. 2.3) says that \n",
        "\n",
        "> A typical example is nouns and adjectives in languages like French and Italian: (...) morphologically, nouns inflect for number and have an inherent gender\n",
        "\n",
        "and as far as I know, with respect to noun inflection, Spanish and Italian work the same way: while not all nouns have both a feminine and a masculine form, for many of them there is a systematic way to derive the masculine from the feminine and vice versa.\n",
        "\n",
        "## Adjectives\n",
        "- inherent features: -\n",
        "- inflective features:\n",
        "\n",
        "feature | possible values\n",
        "--- | ---\n",
        "number | `Sing`, `Plur`\n",
        "gender | `Masc`, `Fem`\n",
        "degree | `Pos`, `Cmp`, `Sup`, `Abs`\n",
        "\n",
        "## Verbs\n",
        "- inherent features: -\n",
        "- inflective features:\n",
        "  \n",
        "feature | possible values\n",
        "--- | ---\n",
        "number | `Sing`, `Plur`\n",
        "person | 1, 2, 3\n",
        "tense | `Past`, `Pres`, `Fut`\n",
        "mood | `Ind`, `Imp`, `Sub`, `Cnd` \n",
        "aspect | `Perf`, `Imp`, `Prog` (?)\n",
        "voice | `Act`, `Pass`\n",
        "\n",
        "Designing a morphological type proved harder for the verbs, as:\n",
        "- while [the UD webpage](https://universaldependencies.org/u/feat/Mood.html#Cnd) consideres conditonal a mood, many other sources, including [wikipedia](https://es.wikipedia.org/wiki/Gram%C3%A1tica_del_espa%C3%B1ol#Verbo), present some ambiguity, describing it sometimes as a mood and sometimes, for reasons that are unclear to me, a tense\n",
        "- it is not completely clear what to do with impersonal forms: for instance, I would say that gerund has progressive aspect, but we'll see further down that `Prog` is nowhere to be found in the treebank\n",
        "- it is hard for me to see the exact difference between [`Imp` tense](https://universaldependencies.org/u/feat/Tense.html#Imp) and [`Imp` aspect](https://universaldependencies.org/u/feat/Aspect.html#Imp)."
      ]
    },
    {
      "cell_type": "markdown",
      "metadata": {
        "id": "xvpBpF3q3AqR",
        "colab_type": "text"
      },
      "source": [
        "# Statistics"
      ]
    },
    {
      "cell_type": "code",
      "metadata": {
        "id": "_Bt8EvouwV-g",
        "colab_type": "code",
        "colab": {}
      },
      "source": [
        "from pandas import read_csv # cause it's easier to abuse read_csv\n",
        "\n",
        "es_features = read_csv('es_pud-ud-test.conllu', sep=\"\\t\", comment=\"#\", usecols=[3, 5], names=[\"POS\", \"features\"])\n",
        "\n",
        "intresting_POS = ['NOUN', 'ADJ', 'VERB']\n",
        "\n",
        "sub_dataframes = [es_features[es_features['POS']==POS] for POS in intresting_POS]  "
      ],
      "execution_count": 0,
      "outputs": []
    },
    {
      "cell_type": "code",
      "metadata": {
        "id": "kAwWC6GGzLHj",
        "colab_type": "code",
        "colab": {}
      },
      "source": [
        "def get_featurename_val_pairs(features_col):\n",
        "  '''\n",
        "  This monstruosity is meant to process the sub-dataframes above so to return, somehow, a list of tuples whose first element is \n",
        "  the name of a given feature, while the second element is its value.\n",
        "  '''\n",
        "  return list(map(lambda x: tuple(x.split('=')), [i for sub in map(lambda x: x.split('|'), features_col['features']) for i in sub]))"
      ],
      "execution_count": 0,
      "outputs": []
    },
    {
      "cell_type": "code",
      "metadata": {
        "id": "kvSMtgW-5ikc",
        "colab_type": "code",
        "colab": {}
      },
      "source": [
        "feature_dict = {}\n",
        "for i, POS in enumerate(intresting_POS):\n",
        "  feature_dict[POS] = get_featurename_val_pairs(sub_dataframes[i])"
      ],
      "execution_count": 0,
      "outputs": []
    },
    {
      "cell_type": "code",
      "metadata": {
        "id": "a3hSzXL69PQo",
        "colab_type": "code",
        "colab": {}
      },
      "source": [
        "def print_POS_features_stats(pairs):\n",
        "  '''\n",
        "  This even more monstrous functions prints the things I want to know about the features\n",
        "  and respective values of a certain POS.\n",
        "  '''\n",
        "  features = set(map(lambda pair: pair[0], pairs))\n",
        "  print('features: {}'.format(features))\n",
        "  for feature in features:\n",
        "    values = list(map(lambda pair: pair[1] if len(pair) > 1 else \"I don't think this is my fault!\", filter(lambda pair: pair[0] == feature, pairs)))\n",
        "    values_counts = [(value, values.count(value)) for value in set(values)]\n",
        "    print('possible values of {}: {}'.format(feature, values_counts))"
      ],
      "execution_count": 0,
      "outputs": []
    },
    {
      "cell_type": "markdown",
      "metadata": {
        "id": "Pc8zp2sk3Mdl",
        "colab_type": "text"
      },
      "source": [
        "## Nouns\n",
        "When it comes to nouns, there is nothing unexpected. The singular forms are much more common in the treebank, but in my opinion that doesn't say anything interesting about the language."
      ]
    },
    {
      "cell_type": "code",
      "metadata": {
        "id": "4pcnC1n1zNvG",
        "colab_type": "code",
        "outputId": "c9e9c298-cab7-4b2b-f430-52c99eb46520",
        "colab": {
          "base_uri": "https://localhost:8080/",
          "height": 86
        }
      },
      "source": [
        "print_POS_features_stats(feature_dict[\"NOUN\"]) # the 3rd line (\"possible values of _\") is due to something weird in the treebank"
      ],
      "execution_count": 5,
      "outputs": [
        {
          "output_type": "stream",
          "text": [
            "features: {'Gender', 'Number', '_'}\n",
            "possible values of Gender: [('Fem', 1965), ('Masc', 2662)]\n",
            "possible values of Number: [('Plur', 1370), ('Sing', 3349)]\n",
            "possible values of _: [(\"I don't think this is my fault!\", 2)]\n"
          ],
          "name": "stdout"
        }
      ]
    },
    {
      "cell_type": "markdown",
      "metadata": {
        "id": "FVt3cwsZ31vt",
        "colab_type": "text"
      },
      "source": [
        "## Adjectives\n",
        "The same applies to adjectives. The fact that most of them are not assigned a value for their degree explicitly simply means that, unsurprisingly, most of them appear in their basic form, but I expected them to be marked at `Pos` instead."
      ]
    },
    {
      "cell_type": "code",
      "metadata": {
        "id": "6xqGci_azQHw",
        "colab_type": "code",
        "outputId": "14650150-c796-4fec-cdf4-d313a16ba0a4",
        "colab": {
          "base_uri": "https://localhost:8080/",
          "height": 86
        }
      },
      "source": [
        "print_POS_features_stats(feature_dict[\"ADJ\"])"
      ],
      "execution_count": 6,
      "outputs": [
        {
          "output_type": "stream",
          "text": [
            "features: {'Degree', 'Gender', 'Number'}\n",
            "possible values of Degree: [('Abs', 1), ('Cmp', 30), ('Sup', 5)]\n",
            "possible values of Gender: [('Fem', 608), ('Masc', 806)]\n",
            "possible values of Number: [('Plur', 432), ('Sing', 1002)]\n"
          ],
          "name": "stdout"
        }
      ]
    },
    {
      "cell_type": "markdown",
      "metadata": {
        "id": "4qiNNovG5FP4",
        "colab_type": "text"
      },
      "source": [
        "## Verbs\n",
        "The results are more intresting (or disappointing) when it comes to verbs:\n",
        "- there are two extra features:\n",
        "  - `Gender`, relatively rare, due to participles, which I had basically ignored like most other impersonal forms\n",
        "  - [`VerbForm`](https://universaldependencies.org/u/feat/VerbForm.html). The existence of this feature would explain a lot about how to deal with impersonal forms (infinitives, participles...), but the fact that its value always is `Fin` looks perplexing, so I did not modify my original design\n",
        "- there are no instances where the verbs have imperative mood, but again, I think this only says something about the corpus, not on Spanish itself\n",
        "- there are no instances where the verbs have progressive aspect, which makes me think my assumptions about gerund where wrong\n",
        "- as I imagined, `Imp`erfect is considered to be an aspect, not a tense."
      ]
    },
    {
      "cell_type": "code",
      "metadata": {
        "id": "L78LEMqx9JF-",
        "colab_type": "code",
        "outputId": "556f2209-4f21-4e8c-de0c-7b76de04fa73",
        "colab": {
          "base_uri": "https://localhost:8080/",
          "height": 173
        }
      },
      "source": [
        "print_POS_features_stats(feature_dict[\"VERB\"])"
      ],
      "execution_count": 0,
      "outputs": [
        {
          "output_type": "stream",
          "text": [
            "features: {'Gender', 'Person', 'Number', 'Mood', 'VerbForm', 'Aspect', 'Voice', 'Tense'}\n",
            "possible values of Gender: [('Masc', 151), ('Fem', 83)]\n",
            "possible values of Person: [('1', 51), ('2', 2), ('3', 1177)]\n",
            "possible values of Number: [('Plur', 416), ('Sing', 1049)]\n",
            "possible values of Mood: [('Ind', 1141), ('Sub', 67), ('Cnd', 22)]\n",
            "possible values of VerbForm: [('Fin', 2115)]\n",
            "possible values of Aspect: [('Perf', 504), ('Imp', 1241)]\n",
            "possible values of Voice: [('Act', 1496), ('Pass', 84)]\n",
            "possible values of Tense: [('Pres', 483), ('Past', 694), ('Fut', 31)]\n"
          ],
          "name": "stdout"
        }
      ]
    }
  ]
}