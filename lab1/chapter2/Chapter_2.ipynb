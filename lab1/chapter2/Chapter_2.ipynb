{
  "nbformat": 4,
  "nbformat_minor": 0,
  "metadata": {
    "colab": {
      "name": "Chapter_2.ipynb",
      "provenance": [],
      "collapsed_sections": [],
      "authorship_tag": "ABX9TyMnSkyYX2u7gFm+7pcgEdDB",
      "include_colab_link": true
    },
    "kernelspec": {
      "name": "python3",
      "display_name": "Python 3"
    }
  },
  "cells": [
    {
      "cell_type": "markdown",
      "metadata": {
        "id": "view-in-github",
        "colab_type": "text"
      },
      "source": [
        "<a href=\"https://colab.research.google.com/github/harisont/comp-syntax-2020/blob/master/lab1/Chapter_2.ipynb\" target=\"_parent\"><img src=\"https://colab.research.google.com/assets/colab-badge.svg\" alt=\"Open In Colab\"/></a>"
      ]
    },
    {
      "cell_type": "markdown",
      "metadata": {
        "id": "Os7yRRGznQD_",
        "colab_type": "text"
      },
      "source": [
        "# Chapter 2: designing the morphological types of the major parts of speech in Spanish\n",
        "\n",
        "## Nouns\n",
        "- inherent features:\n",
        "- inflective features:\n",
        "\n",
        "feature | possible values\n",
        "--- | ---\n",
        "number | `Sing`, `Plur`\n",
        "gender | `Masc`, `Fem`\n",
        "\n",
        "## Adjectives\n",
        "- inherent features:\n",
        "- inflective features:\n",
        "\n",
        "feature | possible values\n",
        "--- | ---\n",
        "number | `Sing`, `Plur`\n",
        "gender | `Masc`, `Fem`\n",
        "degree | `Pos`, `Cmp`, `Sup`\n",
        "\n",
        "## Verbs\n",
        "- inherent features:\n",
        "- inflective features:\n",
        "  \n",
        "feature | possible values\n",
        "--- | ---\n",
        "number | `Sing`, `Plur`\n",
        "person | 1, 2, 3\n",
        "tense | `Past`, `Pres`, `Fut`\n",
        "mood | `Ind`, `Imp`, `Sub`, `Cnd` \n",
        "aspect | `Perf`, `Imp`\n",
        "voice | `Act`, `Pass`"
      ]
    },
    {
      "cell_type": "code",
      "metadata": {
        "id": "_Bt8EvouwV-g",
        "colab_type": "code",
        "colab": {}
      },
      "source": [
        "from pandas import read_csv # cause it's easier to abuse read_csv\n",
        "\n",
        "es_features = read_csv('es_pud-ud-test.conllu', sep=\"\\t\", comment=\"#\", usecols=[3, 5], names=[\"POS\", \"features\"])\n",
        "\n",
        "intresting_POS = ['NOUN', 'ADJ', 'VERB']\n",
        "\n",
        "sub_dataframes = [es_features[es_features['POS']==POS] for POS in intresting_POS]  "
      ],
      "execution_count": 0,
      "outputs": []
    },
    {
      "cell_type": "code",
      "metadata": {
        "id": "kAwWC6GGzLHj",
        "colab_type": "code",
        "colab": {}
      },
      "source": [
        "def get_featurename_val_pairs(features_col):\n",
        "  '''\n",
        "  This monstruosity is meant to process the sub-dataframes above so to return, somehow, a list of tuples whose first element is \n",
        "  the name of a given feature, while the second element is its value.\n",
        "  '''\n",
        "  return list(map(lambda x: tuple(x.split('=')), [i for sub in map(lambda x: x.split('|'), features_col['features']) for i in sub]))"
      ],
      "execution_count": 0,
      "outputs": []
    },
    {
      "cell_type": "code",
      "metadata": {
        "id": "kvSMtgW-5ikc",
        "colab_type": "code",
        "colab": {}
      },
      "source": [
        "feature_dict = {}\n",
        "for i, POS in enumerate(intresting_POS):\n",
        "  feature_dict[POS] = get_featurename_val_pairs(sub_dataframes[i])"
      ],
      "execution_count": 0,
      "outputs": []
    },
    {
      "cell_type": "code",
      "metadata": {
        "id": "a3hSzXL69PQo",
        "colab_type": "code",
        "colab": {}
      },
      "source": [
        "def print_POS_features_stats(pairs):\n",
        "  '''\n",
        "  This even more monstrous functions prints the things I want to know about the features\n",
        "  and respective values of a certain POS.\n",
        "  '''\n",
        "  features = set(map(lambda pair: pair[0], pairs))\n",
        "  print('features: {}'.format(features))\n",
        "  for feature in features:\n",
        "    values = list(map(lambda pair: pair[1] if len(pair) > 1 else \"I don't think this is my fault!\", filter(lambda pair: pair[0] == feature, pairs)))\n",
        "    values_counts = [(value, values.count(value)) for value in set(values)]\n",
        "    print('possible values of {}: {}'.format(feature, values_counts))"
      ],
      "execution_count": 0,
      "outputs": []
    },
    {
      "cell_type": "code",
      "metadata": {
        "id": "4pcnC1n1zNvG",
        "colab_type": "code",
        "colab": {
          "base_uri": "https://localhost:8080/",
          "height": 86
        },
        "outputId": "566a9dae-a0f3-47ce-8240-6f5a6e79c8f5"
      },
      "source": [
        "print_POS_features_stats(feature_dict[\"NOUN\"]) # the 3rd line (\"possible values of _\") is due to something weird in the treebank"
      ],
      "execution_count": 115,
      "outputs": [
        {
          "output_type": "stream",
          "text": [
            "features: {'Gender', '_', 'Number'}\n",
            "possible values of Gender: [('Masc', 2662), ('Fem', 1965)]\n",
            "possible values of _: [(\"I don't think this is my fault!\", 2)]\n",
            "possible values of Number: [('Plur', 1370), ('Sing', 3349)]\n"
          ],
          "name": "stdout"
        }
      ]
    },
    {
      "cell_type": "code",
      "metadata": {
        "id": "6xqGci_azQHw",
        "colab_type": "code",
        "colab": {
          "base_uri": "https://localhost:8080/",
          "height": 86
        },
        "outputId": "d27b92e4-0337-4dd6-b09f-0d2d5dfdd8a4"
      },
      "source": [
        "print_POS_features_stats(feature_dict[\"ADJ\"])"
      ],
      "execution_count": 116,
      "outputs": [
        {
          "output_type": "stream",
          "text": [
            "features: {'Gender', 'Number', 'Degree'}\n",
            "possible values of Gender: [('Masc', 806), ('Fem', 608)]\n",
            "possible values of Number: [('Plur', 432), ('Sing', 1002)]\n",
            "possible values of Degree: [('Cmp', 30), ('Sup', 5), ('Abs', 1)]\n"
          ],
          "name": "stdout"
        }
      ]
    },
    {
      "cell_type": "code",
      "metadata": {
        "id": "L78LEMqx9JF-",
        "colab_type": "code",
        "colab": {
          "base_uri": "https://localhost:8080/",
          "height": 173
        },
        "outputId": "556f2209-4f21-4e8c-de0c-7b76de04fa73"
      },
      "source": [
        "print_POS_features_stats(feature_dict[\"VERB\"])"
      ],
      "execution_count": 117,
      "outputs": [
        {
          "output_type": "stream",
          "text": [
            "features: {'Gender', 'Person', 'Number', 'Mood', 'VerbForm', 'Aspect', 'Voice', 'Tense'}\n",
            "possible values of Gender: [('Masc', 151), ('Fem', 83)]\n",
            "possible values of Person: [('1', 51), ('2', 2), ('3', 1177)]\n",
            "possible values of Number: [('Plur', 416), ('Sing', 1049)]\n",
            "possible values of Mood: [('Ind', 1141), ('Sub', 67), ('Cnd', 22)]\n",
            "possible values of VerbForm: [('Fin', 2115)]\n",
            "possible values of Aspect: [('Perf', 504), ('Imp', 1241)]\n",
            "possible values of Voice: [('Act', 1496), ('Pass', 84)]\n",
            "possible values of Tense: [('Pres', 483), ('Past', 694), ('Fut', 31)]\n"
          ],
          "name": "stdout"
        }
      ]
    }
  ]
}