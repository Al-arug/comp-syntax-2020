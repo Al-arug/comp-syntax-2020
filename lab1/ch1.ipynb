{
  "nbformat": 4,
  "nbformat_minor": 0,
  "metadata": {
    "colab": {
      "name": "Chapter 1.ipynb",
      "provenance": [],
      "collapsed_sections": [],
      "toc_visible": true,
      "authorship_tag": "ABX9TyOoRbF8Ahm93gC/UAq+6LaI",
      "include_colab_link": true
    },
    "kernelspec": {
      "name": "python3",
      "display_name": "Python 3"
    }
  },
  "cells": [
    {
      "cell_type": "markdown",
      "metadata": {
        "id": "view-in-github",
        "colab_type": "text"
      },
      "source": [
        "<a href=\"https://colab.research.google.com/github/harisont/comp-syntax-2020/blob/master/lab1/ch1.ipynb\" target=\"_parent\"><img src=\"https://colab.research.google.com/assets/colab-badge.svg\" alt=\"Open In Colab\"/></a>"
      ]
    },
    {
      "cell_type": "markdown",
      "metadata": {
        "id": "AXPN4e-tDvXG",
        "colab_type": "text"
      },
      "source": [
        "# Chapter 1: explore the parallel UD treebank (PUD)"
      ]
    },
    {
      "cell_type": "markdown",
      "metadata": {
        "id": "5ZiBX4g4ENnA",
        "colab_type": "text"
      },
      "source": [
        "## Question 4 \n",
        "\n",
        "First, we read the relevant data:"
      ]
    },
    {
      "cell_type": "code",
      "metadata": {
        "id": "KUqG2POuG0PO",
        "colab_type": "code",
        "colab": {}
      },
      "source": [
        "from pandas import read_csv # cause it's easier to abuse read_csv\n",
        "\n",
        "# assuming the conllu files are in the current folder\n",
        "en_table = read_csv('en_pud-ud-test.conllu', sep=\"\\t\", comment=\"#\", usecols=[1,3,7], names=[\"token\", \"POS tag\", \"Dep. label\"])\n",
        "es_table = read_csv('es_pud-ud-test.conllu', sep=\"\\t\", comment=\"#\", usecols=[1,3,7], names=[\"token\", \"POS tag\", \"Dep. label\"])"
      ],
      "execution_count": 0,
      "outputs": []
    },
    {
      "cell_type": "markdown",
      "metadata": {
        "id": "eQgK-JpDblkZ",
        "colab_type": "text"
      },
      "source": [
        "We then get the top 10 tags and dependency labels and their number of occurrences."
      ]
    },
    {
      "cell_type": "code",
      "metadata": {
        "id": "jx4LCyhjVLVG",
        "colab_type": "code",
        "colab": {}
      },
      "source": [
        "from nltk import FreqDist\n",
        "\n",
        "def top10(col):\n",
        "  return FreqDist(col).most_common(10)\n",
        "\n",
        "top10_en_tags = top10(en_table[\"POS tag\"])\n",
        "top10_es_tags = top10(es_table[\"POS tag\"])\n",
        "top10_en_deps = top10(en_table[\"Dep. label\"])\n",
        "top10_es_deps = top10(es_table[\"Dep. label\"])"
      ],
      "execution_count": 0,
      "outputs": []
    },
    {
      "cell_type": "code",
      "metadata": {
        "id": "DCyikdHVWhGP",
        "colab_type": "code",
        "colab": {}
      },
      "source": [
        "def print_sidebyside(top10en, top10es):\n",
        "  fmt = '{:<5}{:<20}{}'\n",
        "  print(fmt.format('', 'English', 'Spanish'))\n",
        "  for i, (p1, p2) in enumerate(zip(top10en, top10es)):\n",
        "      print(fmt.format(i + 1, str(p1), str(p2)))"
      ],
      "execution_count": 0,
      "outputs": []
    },
    {
      "cell_type": "markdown",
      "metadata": {
        "id": "vavpa1DXcumj",
        "colab_type": "text"
      },
      "source": [
        "As shown below, in both treebanks `NOUN` and `ADP` are respectively the first and second most frequent POS, but the number of adpositions in Spanish is way bigger than it is with respects to English. This is not surprising, since, for instance, there are many verbs that are directly followed by the objet in English but require a preposition in Spanish (e.g. _dream_ vs _soñar con_).\n",
        "\n",
        "Unlike in Spanish, the third most frequent tag in the English is `PUNCT`, indicating that English sentences and clauses are generally shorter than their Spanish counterparts.\n",
        "\n",
        "Another way in which the two languages differ significantly is the amount of determiners. This may be due to the fact that in English it is more common to omit articles, for instance in sentences like \"Children should go to the park every day\" (where we say something about children in general), which can be translated to Spanish as \"_Los_ niños tendrìan que ir al parque todos los días\"."
      ]
    },
    {
      "cell_type": "code",
      "metadata": {
        "id": "K09_ITN6bORn",
        "colab_type": "code",
        "colab": {
          "base_uri": "https://localhost:8080/",
          "height": 208
        },
        "outputId": "7d677f9f-6cbd-4769-ee01-f3e865f6e015"
      },
      "source": [
        "print_sidebyside(top10_en_tags, top10_es_tags)"
      ],
      "execution_count": 57,
      "outputs": [
        {
          "output_type": "stream",
          "text": [
            "     English             Spanish\n",
            "1    ('NOUN', 4040)      ('NOUN', 4721)\n",
            "2    ('ADP', 2493)       ('ADP', 4167)\n",
            "3    ('PUNCT', 2301)     ('DET', 3260)\n",
            "4    ('VERB', 2156)      ('PUNCT', 2216)\n",
            "5    ('DET', 2086)       ('VERB', 2115)\n",
            "6    ('PROPN', 1727)     ('ADJ', 1434)\n",
            "7    ('ADJ', 1540)       ('PROPN', 1220)\n",
            "8    ('PRON', 1021)      ('PRON', 1035)\n",
            "9    ('AUX', 1014)       ('ADV', 895)\n",
            "10   ('ADV', 849)        ('AUX', 735)\n"
          ],
          "name": "stdout"
        }
      ]
    },
    {
      "cell_type": "code",
      "metadata": {
        "id": "yX5dpoywbPvt",
        "colab_type": "code",
        "colab": {
          "base_uri": "https://localhost:8080/",
          "height": 208
        },
        "outputId": "f1ca012b-5788-410f-ed3c-665ce0463292"
      },
      "source": [
        "print_sidebyside(top10_en_deps, top10_es_deps)"
      ],
      "execution_count": 58,
      "outputs": [
        {
          "output_type": "stream",
          "text": [
            "     English             Spanish\n",
            "1    ('case', 2499)      ('case', 3648)\n",
            "2    ('punct', 2301)     ('det', 3425)\n",
            "3    ('det', 2047)       ('punct', 2216)\n",
            "4    ('nsubj', 1393)     ('nmod', 1766)\n",
            "5    ('amod', 1336)      ('obl', 1521)\n",
            "6    ('obl', 1237)       ('amod', 1276)\n",
            "7    ('nmod', 1076)      ('nsubj', 1168)\n",
            "8    ('root', 1000)      ('root', 996)\n",
            "9    ('obj', 876)        ('advmod', 829)\n",
            "10   ('advmod', 852)     ('obj', 773)\n"
          ],
          "name": "stdout"
        }
      ]
    }
  ]
}